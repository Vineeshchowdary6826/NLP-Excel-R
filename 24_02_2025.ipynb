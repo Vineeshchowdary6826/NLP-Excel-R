{
  "nbformat": 4,
  "nbformat_minor": 0,
  "metadata": {
    "colab": {
      "provenance": [],
      "authorship_tag": "ABX9TyPYctkcxgYJDl/knCExI57q",
      "include_colab_link": true
    },
    "kernelspec": {
      "name": "python3",
      "display_name": "Python 3"
    },
    "language_info": {
      "name": "python"
    }
  },
  "cells": [
    {
      "cell_type": "markdown",
      "metadata": {
        "id": "view-in-github",
        "colab_type": "text"
      },
      "source": [
        "<a href=\"https://colab.research.google.com/github/Vineeshchowdary6826/NLP-Excel-R/blob/master/24_02_2025.ipynb\" target=\"_parent\"><img src=\"https://colab.research.google.com/assets/colab-badge.svg\" alt=\"Open In Colab\"/></a>"
      ]
    },
    {
      "cell_type": "code",
      "source": [
        "import pandas as pd\n",
        "import numpy as np\n",
        "\n",
        "reviews_datasets=(\"/content/Reviews.csv\")\n",
        "reviews_datasets=reviews_datasets.head(2000)\n",
        "reviews_datasets.dropna()"
      ],
      "metadata": {
        "id": "K7WgipozjkgW"
      },
      "execution_count": null,
      "outputs": []
    },
    {
      "cell_type": "code",
      "source": [
        "reviews_datasets['Text'][350]"
      ],
      "metadata": {
        "id": "biy_oY5qZB2d"
      },
      "execution_count": null,
      "outputs": []
    },
    {
      "cell_type": "code",
      "source": [
        "from sklearn.feature_extraction.text import CountVectorizer\n",
        "\n",
        "count_vect = CountVectorizer(max_df=0.8, min_df=2, stop_words='english')\n",
        "\n",
        "doc_term_matrix = count_vect.fit_transform(reviews_datasets['Text'].values.astype('U'))"
      ],
      "metadata": {
        "id": "DU4RyrzwaRne"
      },
      "execution_count": null,
      "outputs": []
    },
    {
      "cell_type": "code",
      "source": [
        "CountVectorizer?"
      ],
      "metadata": {
        "colab": {
          "base_uri": "https://localhost:8080/"
        },
        "id": "IW6BfvfEanF-",
        "outputId": "64ed5287-afbc-4b7c-b618-d7360135a3c3"
      },
      "execution_count": 6,
      "outputs": [
        {
          "output_type": "stream",
          "name": "stdout",
          "text": [
            "Object `CountVectorizer` not found.\n"
          ]
        }
      ]
    },
    {
      "cell_type": "code",
      "source": [
        "from sklearn.decomposition import LatentDirichletAllocation\n",
        "LDA = LatentDirichletAllocation(n_components=5, random_state=42)\n",
        "LDA.fit(doc_term_matrix)"
      ],
      "metadata": {
        "id": "HxBmf_lnatMM"
      },
      "execution_count": null,
      "outputs": []
    },
    {
      "cell_type": "code",
      "source": [
        "import random\n",
        "for i in range(10):\n",
        "\n",
        "    random_id = random.randint(0,len(count_vect.get_feature_names_out()))\n",
        "\n",
        "    print(count_vect.get_feature_names_out()[random_id])"
      ],
      "metadata": {
        "id": "kzVC1YUXcwgH"
      },
      "execution_count": null,
      "outputs": []
    },
    {
      "cell_type": "code",
      "source": [
        "first_topic = LDA.components_[0]"
      ],
      "metadata": {
        "id": "eEZYJ9r6c4YO"
      },
      "execution_count": null,
      "outputs": []
    },
    {
      "cell_type": "code",
      "source": [
        "top_topic_words = first_topic.argsort()[-10:]"
      ],
      "metadata": {
        "id": "4jkFzZfUdIq1"
      },
      "execution_count": null,
      "outputs": []
    },
    {
      "cell_type": "code",
      "source": [
        "for i in top_topic_words:\n",
        "  print(count_vect.get_feature_names_out()[i])"
      ],
      "metadata": {
        "id": "9U-KD3F-dkPs"
      },
      "execution_count": null,
      "outputs": []
    },
    {
      "cell_type": "code",
      "source": [
        "for i,topic in enumerate(LDA.components_):\n",
        "\n",
        "    print(f'Top 10 words for topic #{i+1}:')\n",
        "\n",
        "    print([count_vect.get_feature_names_out()[i] for i in topic.argsort()[-10:]])\n",
        "\n",
        "    print('\\n')"
      ],
      "metadata": {
        "id": "aK93hZe1fjG1"
      },
      "execution_count": null,
      "outputs": []
    },
    {
      "cell_type": "code",
      "source": [
        "top_topic_words = first_topic.argsort()[-10:]"
      ],
      "metadata": {
        "id": "0882rGcdfkTQ"
      },
      "execution_count": null,
      "outputs": []
    },
    {
      "cell_type": "code",
      "source": [
        "topic_values = LDA.transform(doc_term_matrix)\n",
        "\n",
        "topic_values.shape"
      ],
      "metadata": {
        "id": "7R1M3IETfn2z"
      },
      "execution_count": null,
      "outputs": []
    },
    {
      "cell_type": "code",
      "source": [
        "reviews_datasets['Topic'] = topic_values.argmax(axis=1)"
      ],
      "metadata": {
        "id": "VHyiiDIwfuxU"
      },
      "execution_count": null,
      "outputs": []
    },
    {
      "cell_type": "code",
      "source": [
        "reviews_datasets.head()"
      ],
      "metadata": {
        "id": "eN6XbOCQfvrv"
      },
      "execution_count": null,
      "outputs": []
    },
    {
      "cell_type": "code",
      "source": [
        "import pandas as pd\n",
        "\n",
        "import numpy as np\n",
        "\n",
        "\n",
        "\n",
        "reviews_datasets = pd.read_csv(\"data/Reviews.csv\")\n",
        "\n",
        "reviews_datasets = reviews_datasets.head(20000)\n",
        "\n",
        "reviews_datasets.dropna()"
      ],
      "metadata": {
        "id": "YAasVdRShpAp"
      },
      "execution_count": null,
      "outputs": []
    },
    {
      "cell_type": "code",
      "source": [
        "Non-Negative Matrix Factorization (NMF)"
      ],
      "metadata": {
        "id": "T9AALuwCi8tm"
      },
      "execution_count": null,
      "outputs": []
    },
    {
      "cell_type": "code",
      "source": [
        "from sklearn.feature_extraction.text import TfidfVectorizer\n",
        "\n",
        "tfidf_vect = TfidfVectorizer(max_df=0.8, min_df=2, stop_words='english')\n",
        "\n",
        "doc_term_matrix = tfidf_vect.fit_transform(reviews_datasets['Text'].values.astype('U'))\n"
      ],
      "metadata": {
        "id": "0LrspVani_tv"
      },
      "execution_count": null,
      "outputs": []
    },
    {
      "cell_type": "code",
      "source": [
        "from sklearn.decomposition import NMF\n",
        "\n",
        "nmf = NMF(n_components=5, random_state=42)\n",
        "\n",
        "nmf.fit(doc_term_matrix )"
      ],
      "metadata": {
        "id": "135hb2DQjDMi"
      },
      "execution_count": null,
      "outputs": []
    },
    {
      "cell_type": "code",
      "source": [
        "import random\n",
        "\n",
        "\n",
        "\n",
        "for i in range(10):\n",
        "\n",
        "    random_id = random.randint(0,len(tfidf_vect.get_feature_names_out()))\n",
        "\n",
        "    print(tfidf_vect.get_feature_names_out()[random_id])"
      ],
      "metadata": {
        "id": "tRwwMmDyjS-R"
      },
      "execution_count": null,
      "outputs": []
    },
    {
      "cell_type": "code",
      "source": [
        "first_topic = nmf.components_[0]\n",
        "\n",
        "top_topic_words = first_topic.argsort()[-10:]"
      ],
      "metadata": {
        "id": "ggisuZ33jVMN"
      },
      "execution_count": null,
      "outputs": []
    },
    {
      "cell_type": "code",
      "source": [
        "for i in top_topic_words:\n",
        "\n",
        "    print(tfidf_vect.get_feature_names_out()[i])"
      ],
      "metadata": {
        "id": "qBLSyaiqjZfu"
      },
      "execution_count": null,
      "outputs": []
    },
    {
      "cell_type": "code",
      "source": [
        "for i,topic in enumerate(nmf.components_):\n",
        "\n",
        "    print(f'Top 10 words for topic #{i}:')\n",
        "\n",
        "    print([tfidf_vect.get_feature_names_out()[i] for i in topic.argsort()[-10:]])\n",
        "\n",
        "    print('\\n')"
      ],
      "metadata": {
        "id": "rjVrnVV1jaQH"
      },
      "execution_count": null,
      "outputs": []
    },
    {
      "cell_type": "code",
      "source": [
        "topic_values = nmf.transform(doc_term_matrix)\n",
        "\n",
        "reviews_datasets['Topic'] = topic_values.argmax(axis=1)\n",
        "\n",
        "reviews_datasets.head()"
      ],
      "metadata": {
        "id": "_uR55t9qjcXn"
      },
      "execution_count": null,
      "outputs": []
    }
  ]
}